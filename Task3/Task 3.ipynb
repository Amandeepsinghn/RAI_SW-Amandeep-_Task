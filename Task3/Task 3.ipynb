{
 "cells": [
  {
   "cell_type": "code",
   "execution_count": 1,
   "id": "47fc0c75-c3e7-4c8c-81c1-56834a89efb6",
   "metadata": {
    "tags": []
   },
   "outputs": [],
   "source": [
    "import pandas as pd \n",
    "import numpy as np \n",
    "import seaborn as sns \n",
    "import warnings as warnings \n",
    "warnings.filterwarnings(\"ignore\")\n",
    "import matplotlib.pyplot as plt \n",
    "import streamlit as st"
   ]
  },
  {
   "cell_type": "code",
   "execution_count": 2,
   "id": "381752be-230f-4d44-8655-470bc2e45b7b",
   "metadata": {
    "tags": []
   },
   "outputs": [],
   "source": [
    "df=pd.read_excel(\"rawdata.xlsx\")"
   ]
  },
  {
   "cell_type": "code",
   "execution_count": 3,
   "id": "6de74ec6-07f0-45fa-88be-2b9f9ea493a8",
   "metadata": {
    "tags": []
   },
   "outputs": [
    {
     "data": {
      "text/plain": [
       "date          0\n",
       "time          0\n",
       "sensor        1\n",
       "location      0\n",
       "number        0\n",
       "activity      0\n",
       "position      0\n",
       "location.1    0\n",
       "dtype: int64"
      ]
     },
     "execution_count": 3,
     "metadata": {},
     "output_type": "execute_result"
    }
   ],
   "source": [
    "df.isnull().sum()"
   ]
  },
  {
   "cell_type": "code",
   "execution_count": 4,
   "id": "c2f2dc9e-ce2d-4bad-bacd-d44965a53423",
   "metadata": {
    "tags": []
   },
   "outputs": [],
   "source": [
    "df.dropna(inplace=True)"
   ]
  },
  {
   "cell_type": "code",
   "execution_count": 5,
   "id": "4e9a8ffc-7acf-45aa-8ea4-2941ab9c3448",
   "metadata": {
    "tags": []
   },
   "outputs": [
    {
     "data": {
      "text/plain": [
       "0"
      ]
     },
     "execution_count": 5,
     "metadata": {},
     "output_type": "execute_result"
    }
   ],
   "source": [
    "df.duplicated().sum()"
   ]
  },
  {
   "cell_type": "code",
   "execution_count": 6,
   "id": "50e32a3f-6463-4cf0-83a9-9662a2f8f499",
   "metadata": {
    "tags": []
   },
   "outputs": [
    {
     "data": {
      "text/html": [
       "<div>\n",
       "<style scoped>\n",
       "    .dataframe tbody tr th:only-of-type {\n",
       "        vertical-align: middle;\n",
       "    }\n",
       "\n",
       "    .dataframe tbody tr th {\n",
       "        vertical-align: top;\n",
       "    }\n",
       "\n",
       "    .dataframe thead th {\n",
       "        text-align: right;\n",
       "    }\n",
       "</style>\n",
       "<table border=\"1\" class=\"dataframe\">\n",
       "  <thead>\n",
       "    <tr style=\"text-align: right;\">\n",
       "      <th></th>\n",
       "      <th>date</th>\n",
       "      <th>time</th>\n",
       "      <th>sensor</th>\n",
       "      <th>location</th>\n",
       "      <th>number</th>\n",
       "      <th>activity</th>\n",
       "      <th>position</th>\n",
       "      <th>location.1</th>\n",
       "    </tr>\n",
       "  </thead>\n",
       "  <tbody>\n",
       "    <tr>\n",
       "      <th>0</th>\n",
       "      <td>2024-01-16</td>\n",
       "      <td>10:10:30</td>\n",
       "      <td>0.0</td>\n",
       "      <td>A1</td>\n",
       "      <td>1</td>\n",
       "      <td>placed</td>\n",
       "      <td>inside</td>\n",
       "      <td>A1</td>\n",
       "    </tr>\n",
       "    <tr>\n",
       "      <th>1</th>\n",
       "      <td>2024-01-16</td>\n",
       "      <td>10:12:30</td>\n",
       "      <td>1.0</td>\n",
       "      <td>A2</td>\n",
       "      <td>1</td>\n",
       "      <td>picked</td>\n",
       "      <td>inside</td>\n",
       "      <td>A2</td>\n",
       "    </tr>\n",
       "    <tr>\n",
       "      <th>2</th>\n",
       "      <td>2024-01-16</td>\n",
       "      <td>10:28:30</td>\n",
       "      <td>1.0</td>\n",
       "      <td>A3</td>\n",
       "      <td>1</td>\n",
       "      <td>picked</td>\n",
       "      <td>Inside</td>\n",
       "      <td>A3</td>\n",
       "    </tr>\n",
       "    <tr>\n",
       "      <th>3</th>\n",
       "      <td>2024-01-16</td>\n",
       "      <td>10:38:20</td>\n",
       "      <td>0.0</td>\n",
       "      <td>A4</td>\n",
       "      <td>1</td>\n",
       "      <td>placed</td>\n",
       "      <td>Inside</td>\n",
       "      <td>A4</td>\n",
       "    </tr>\n",
       "    <tr>\n",
       "      <th>4</th>\n",
       "      <td>2024-01-16</td>\n",
       "      <td>10:45:20</td>\n",
       "      <td>1.0</td>\n",
       "      <td>A5</td>\n",
       "      <td>1</td>\n",
       "      <td>placed</td>\n",
       "      <td>inside</td>\n",
       "      <td>A5</td>\n",
       "    </tr>\n",
       "  </tbody>\n",
       "</table>\n",
       "</div>"
      ],
      "text/plain": [
       "        date      time  sensor location  number activity position location.1\n",
       "0 2024-01-16  10:10:30     0.0       A1       1   placed   inside         A1\n",
       "1 2024-01-16  10:12:30     1.0       A2       1   picked   inside         A2\n",
       "2 2024-01-16  10:28:30     1.0       A3       1   picked   Inside         A3\n",
       "3 2024-01-16  10:38:20     0.0       A4       1   placed   Inside         A4\n",
       "4 2024-01-16  10:45:20     1.0       A5       1   placed   inside         A5"
      ]
     },
     "execution_count": 6,
     "metadata": {},
     "output_type": "execute_result"
    }
   ],
   "source": [
    "df.head()"
   ]
  },
  {
   "cell_type": "markdown",
   "id": "e1fe4c26-b5db-46a7-9935-6bcfbf661244",
   "metadata": {},
   "source": [
    "# ANS 1"
   ]
  },
  {
   "cell_type": "markdown",
   "id": "9329972e-31f8-4055-9a4f-8b8ffb9e1a1e",
   "metadata": {},
   "source": [
    "### inside "
   ]
  },
  {
   "cell_type": "code",
   "execution_count": 9,
   "id": "95e2219e-4a6d-4ddf-9733-96eebfd61c24",
   "metadata": {
    "tags": []
   },
   "outputs": [],
   "source": [
    "df1=df[df['position']=='inside']"
   ]
  },
  {
   "cell_type": "code",
   "execution_count": 10,
   "id": "fc4406ee-69bd-4f0c-91e7-02692825d6e7",
   "metadata": {
    "tags": []
   },
   "outputs": [],
   "source": [
    "df1['time_hour'] = pd.to_datetime(df1['time'], format='%H:%M:%S').dt.hour"
   ]
  },
  {
   "cell_type": "code",
   "execution_count": 11,
   "id": "3a34c49b-4227-43c8-b3f5-8415e687400b",
   "metadata": {
    "tags": []
   },
   "outputs": [],
   "source": [
    "df1['time_minute'] = pd.to_datetime(df1['time'], format='%H:%M:%S').dt.minute"
   ]
  },
  {
   "cell_type": "code",
   "execution_count": 12,
   "id": "9bcbb836-a06e-4769-b889-6bb8ec527fcb",
   "metadata": {
    "tags": []
   },
   "outputs": [
    {
     "data": {
      "text/plain": [
       "0      10:10:30\n",
       "1      10:12:30\n",
       "4      10:45:20\n",
       "5      10:52:20\n",
       "6      11:05:20\n",
       "         ...   \n",
       "168    12:32:35\n",
       "169    12:35:30\n",
       "170    12:45:05\n",
       "171    12:53:10\n",
       "174    13:18:30\n",
       "Name: time, Length: 156, dtype: object"
      ]
     },
     "execution_count": 12,
     "metadata": {},
     "output_type": "execute_result"
    }
   ],
   "source": [
    "df1['time']"
   ]
  },
  {
   "cell_type": "code",
   "execution_count": 13,
   "id": "e99d64d2-17da-4d77-965a-a7e8b847664e",
   "metadata": {
    "tags": []
   },
   "outputs": [],
   "source": [
    "df1[\"total_time\"]=df1['time_hour']*df1['time_minute']"
   ]
  },
  {
   "cell_type": "code",
   "execution_count": 14,
   "id": "1af39420-451d-47c6-9fd4-1af672c618a4",
   "metadata": {
    "tags": []
   },
   "outputs": [
    {
     "data": {
      "text/plain": [
       "date\n",
       "2024-01-16     75.705128\n",
       "2024-01-17    291.631579\n",
       "2024-01-18    391.406780\n",
       "Name: total_time, dtype: float64"
      ]
     },
     "execution_count": 14,
     "metadata": {},
     "output_type": "execute_result"
    }
   ],
   "source": [
    "df1.groupby('date')['total_time'].mean()"
   ]
  },
  {
   "cell_type": "code",
   "execution_count": 15,
   "id": "6547c105-ab9f-43b8-bab7-e53999af6554",
   "metadata": {
    "tags": []
   },
   "outputs": [],
   "source": [
    "inside_datewise_duration_in_minutes=df1.groupby('date')['total_time'].mean()"
   ]
  },
  {
   "cell_type": "markdown",
   "id": "f8f56ef4-4c16-4c76-815d-68fac46ead2c",
   "metadata": {
    "tags": []
   },
   "source": [
    "### outside "
   ]
  },
  {
   "cell_type": "code",
   "execution_count": 17,
   "id": "e7a42f1c-628b-439f-9802-271d551a8c25",
   "metadata": {
    "tags": []
   },
   "outputs": [],
   "source": [
    "df2=df[df['position']=='outside']"
   ]
  },
  {
   "cell_type": "code",
   "execution_count": 18,
   "id": "d669e9a2-0fec-4191-9fec-986afecb6b8c",
   "metadata": {
    "tags": []
   },
   "outputs": [],
   "source": [
    "df2['time_hour'] = pd.to_datetime(df2['time'], format='%H:%M:%S').dt.hour"
   ]
  },
  {
   "cell_type": "code",
   "execution_count": 19,
   "id": "9655fe6c-fcf7-4856-8402-88ad76d78788",
   "metadata": {
    "tags": []
   },
   "outputs": [],
   "source": [
    "df2['time_minute'] = pd.to_datetime(df2['time'], format='%H:%M:%S').dt.minute"
   ]
  },
  {
   "cell_type": "code",
   "execution_count": 20,
   "id": "53cb1c74-3deb-4f28-aedb-2677b6d83461",
   "metadata": {
    "tags": []
   },
   "outputs": [
    {
     "data": {
      "text/plain": [
       "125    14:48:20\n",
       "137    16:47:00\n",
       "149    18:57:00\n",
       "172    12:59:10\n",
       "Name: time, dtype: object"
      ]
     },
     "execution_count": 20,
     "metadata": {},
     "output_type": "execute_result"
    }
   ],
   "source": [
    "df2['time']"
   ]
  },
  {
   "cell_type": "code",
   "execution_count": 21,
   "id": "9f6a054e-ed3d-4fc8-a7ef-31cb58ba79e1",
   "metadata": {
    "tags": []
   },
   "outputs": [],
   "source": [
    "df2[\"total_time\"]=df2['time_hour']*df2['time_minute']"
   ]
  },
  {
   "cell_type": "code",
   "execution_count": 22,
   "id": "97ddcb87-1e35-4163-9b00-8a28c8a56607",
   "metadata": {
    "tags": []
   },
   "outputs": [
    {
     "data": {
      "text/plain": [
       "date\n",
       "2024-01-18    789.5\n",
       "Name: total_time, dtype: float64"
      ]
     },
     "execution_count": 22,
     "metadata": {},
     "output_type": "execute_result"
    }
   ],
   "source": [
    "df2.groupby('date')['total_time'].mean()"
   ]
  },
  {
   "cell_type": "code",
   "execution_count": 23,
   "id": "92af24e1-d3b4-4d13-bb49-f1175d5f062b",
   "metadata": {
    "tags": []
   },
   "outputs": [],
   "source": [
    "outside_datewise_duration_in_minutes=df2.groupby('date')['total_time'].mean()"
   ]
  },
  {
   "cell_type": "markdown",
   "id": "2aa2f797-fd9a-491e-9038-492bdbea1a98",
   "metadata": {
    "tags": []
   },
   "source": [
    "# ANS 2"
   ]
  },
  {
   "cell_type": "code",
   "execution_count": 25,
   "id": "4734f3d7-a6d3-40f2-8339-aa9b942452ab",
   "metadata": {
    "tags": []
   },
   "outputs": [
    {
     "data": {
      "text/html": [
       "<div>\n",
       "<style scoped>\n",
       "    .dataframe tbody tr th:only-of-type {\n",
       "        vertical-align: middle;\n",
       "    }\n",
       "\n",
       "    .dataframe tbody tr th {\n",
       "        vertical-align: top;\n",
       "    }\n",
       "\n",
       "    .dataframe thead th {\n",
       "        text-align: right;\n",
       "    }\n",
       "</style>\n",
       "<table border=\"1\" class=\"dataframe\">\n",
       "  <thead>\n",
       "    <tr style=\"text-align: right;\">\n",
       "      <th></th>\n",
       "      <th>date</th>\n",
       "      <th>time</th>\n",
       "      <th>sensor</th>\n",
       "      <th>location</th>\n",
       "      <th>number</th>\n",
       "      <th>activity</th>\n",
       "      <th>position</th>\n",
       "      <th>location.1</th>\n",
       "    </tr>\n",
       "  </thead>\n",
       "  <tbody>\n",
       "    <tr>\n",
       "      <th>0</th>\n",
       "      <td>2024-01-16</td>\n",
       "      <td>10:10:30</td>\n",
       "      <td>0.0</td>\n",
       "      <td>A1</td>\n",
       "      <td>1</td>\n",
       "      <td>placed</td>\n",
       "      <td>inside</td>\n",
       "      <td>A1</td>\n",
       "    </tr>\n",
       "    <tr>\n",
       "      <th>1</th>\n",
       "      <td>2024-01-16</td>\n",
       "      <td>10:12:30</td>\n",
       "      <td>1.0</td>\n",
       "      <td>A2</td>\n",
       "      <td>1</td>\n",
       "      <td>picked</td>\n",
       "      <td>inside</td>\n",
       "      <td>A2</td>\n",
       "    </tr>\n",
       "    <tr>\n",
       "      <th>2</th>\n",
       "      <td>2024-01-16</td>\n",
       "      <td>10:28:30</td>\n",
       "      <td>1.0</td>\n",
       "      <td>A3</td>\n",
       "      <td>1</td>\n",
       "      <td>picked</td>\n",
       "      <td>Inside</td>\n",
       "      <td>A3</td>\n",
       "    </tr>\n",
       "    <tr>\n",
       "      <th>3</th>\n",
       "      <td>2024-01-16</td>\n",
       "      <td>10:38:20</td>\n",
       "      <td>0.0</td>\n",
       "      <td>A4</td>\n",
       "      <td>1</td>\n",
       "      <td>placed</td>\n",
       "      <td>Inside</td>\n",
       "      <td>A4</td>\n",
       "    </tr>\n",
       "    <tr>\n",
       "      <th>4</th>\n",
       "      <td>2024-01-16</td>\n",
       "      <td>10:45:20</td>\n",
       "      <td>1.0</td>\n",
       "      <td>A5</td>\n",
       "      <td>1</td>\n",
       "      <td>placed</td>\n",
       "      <td>inside</td>\n",
       "      <td>A5</td>\n",
       "    </tr>\n",
       "  </tbody>\n",
       "</table>\n",
       "</div>"
      ],
      "text/plain": [
       "        date      time  sensor location  number activity position location.1\n",
       "0 2024-01-16  10:10:30     0.0       A1       1   placed   inside         A1\n",
       "1 2024-01-16  10:12:30     1.0       A2       1   picked   inside         A2\n",
       "2 2024-01-16  10:28:30     1.0       A3       1   picked   Inside         A3\n",
       "3 2024-01-16  10:38:20     0.0       A4       1   placed   Inside         A4\n",
       "4 2024-01-16  10:45:20     1.0       A5       1   placed   inside         A5"
      ]
     },
     "execution_count": 25,
     "metadata": {},
     "output_type": "execute_result"
    }
   ],
   "source": [
    "df.head()"
   ]
  },
  {
   "cell_type": "code",
   "execution_count": 26,
   "id": "977c4b65-0e4f-4987-8681-ceba47dd732b",
   "metadata": {
    "tags": []
   },
   "outputs": [
    {
     "data": {
      "text/plain": [
       "activity\n",
       "placed    87\n",
       "picked    87\n",
       "Name: count, dtype: int64"
      ]
     },
     "execution_count": 26,
     "metadata": {},
     "output_type": "execute_result"
    }
   ],
   "source": [
    "df['activity'].value_counts()"
   ]
  },
  {
   "cell_type": "code",
   "execution_count": 27,
   "id": "94db2357-4379-4370-9eff-dabc90ab4c01",
   "metadata": {
    "tags": []
   },
   "outputs": [],
   "source": [
    "df_placed=df[df['activity']=='placed']"
   ]
  },
  {
   "cell_type": "code",
   "execution_count": 28,
   "id": "f0f0f93e-5704-45ce-8dba-b669e4d4c256",
   "metadata": {
    "tags": []
   },
   "outputs": [
    {
     "data": {
      "text/plain": [
       "date\n",
       "2024-01-16    40\n",
       "2024-01-17     9\n",
       "2024-01-18    38\n",
       "Name: activity, dtype: int64"
      ]
     },
     "execution_count": 28,
     "metadata": {},
     "output_type": "execute_result"
    }
   ],
   "source": [
    "df_placed.groupby('date')['activity'].count()"
   ]
  },
  {
   "cell_type": "code",
   "execution_count": 29,
   "id": "96ca5bfb-d3fe-42e6-b576-180a26a50c24",
   "metadata": {
    "tags": []
   },
   "outputs": [],
   "source": [
    "placed_count=df_placed.groupby('date')['activity'].count()"
   ]
  },
  {
   "cell_type": "code",
   "execution_count": 30,
   "id": "200a0ad1-7f58-41e6-bb01-71c995f782a4",
   "metadata": {
    "tags": []
   },
   "outputs": [],
   "source": [
    "df_picked=df[df['activity']=='picked']"
   ]
  },
  {
   "cell_type": "code",
   "execution_count": 31,
   "id": "d4714377-7143-41b7-a652-13c070dd49db",
   "metadata": {
    "tags": []
   },
   "outputs": [
    {
     "data": {
      "text/plain": [
       "date\n",
       "2024-01-16    40\n",
       "2024-01-17    10\n",
       "2024-01-18    37\n",
       "Name: activity, dtype: int64"
      ]
     },
     "execution_count": 31,
     "metadata": {},
     "output_type": "execute_result"
    }
   ],
   "source": [
    "df_picked.groupby('date')['activity'].count()"
   ]
  },
  {
   "cell_type": "code",
   "execution_count": 32,
   "id": "d0de36c0-d730-4aca-8aa9-4cba76f6f532",
   "metadata": {
    "tags": []
   },
   "outputs": [],
   "source": [
    "picked_count=df_picked.groupby('date')['activity'].count()"
   ]
  },
  {
   "cell_type": "markdown",
   "id": "260367b6-e0aa-4d70-a963-4dcb4b9d05bf",
   "metadata": {},
   "source": [
    "# ANS 3"
   ]
  },
  {
   "cell_type": "code",
   "execution_count": 35,
   "id": "9ba18fce-bd2a-4e6f-98f6-0444cbd5c434",
   "metadata": {
    "tags": []
   },
   "outputs": [
    {
     "data": {
      "text/plain": [
       "DeltaGenerator()"
      ]
     },
     "execution_count": 35,
     "metadata": {},
     "output_type": "execute_result"
    }
   ],
   "source": [
    "st.title(\"Activity Dashboard\")\n",
    "\n",
    "# Debugging output\n",
    "st.write(\"Loaded DataFrame:\")\n",
    "st.write(df.head())\n",
    "\n",
    "st.header('Inside Datewise Duration in Minutes')\n",
    "st.dataframe(inside_datewise_duration_in_minutes)\n",
    "\n",
    "st.header('Outside Datewise Duration in Minutes')\n",
    "st.dataframe(outside_datewise_duration_in_minutes)\n",
    "\n",
    "st.header('Placed Count')\n",
    "st.dataframe(placed_count)\n",
    "\n",
    "st.header('Picked Count')\n",
    "st.dataframe(picked_count)"
   ]
  },
  {
   "cell_type": "code",
   "execution_count": null,
   "id": "665964f1-14a9-4957-9014-ec46090be0d3",
   "metadata": {},
   "outputs": [],
   "source": []
  }
 ],
 "metadata": {
  "kernelspec": {
   "display_name": "Python 3 (ipykernel)",
   "language": "python",
   "name": "python3"
  },
  "language_info": {
   "codemirror_mode": {
    "name": "ipython",
    "version": 3
   },
   "file_extension": ".py",
   "mimetype": "text/x-python",
   "name": "python",
   "nbconvert_exporter": "python",
   "pygments_lexer": "ipython3",
   "version": "3.11.7"
  }
 },
 "nbformat": 4,
 "nbformat_minor": 5
}
