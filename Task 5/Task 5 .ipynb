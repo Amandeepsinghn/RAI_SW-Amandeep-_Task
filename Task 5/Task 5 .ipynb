{
 "cells": [
  {
   "cell_type": "code",
   "execution_count": 1,
   "id": "300286de-d01f-4ebf-a094-c485b5c32e37",
   "metadata": {
    "tags": []
   },
   "outputs": [
    {
     "name": "stderr",
     "output_type": "stream",
     "text": [
      "/home/googlyji/anaconda3/envs/pdf_sum/lib/python3.11/site-packages/tqdm/auto.py:21: TqdmWarning: IProgress not found. Please update jupyter and ipywidgets. See https://ipywidgets.readthedocs.io/en/stable/user_install.html\n",
      "  from .autonotebook import tqdm as notebook_tqdm\n"
     ]
    }
   ],
   "source": [
    "from PyPDF2 import PdfReader\n",
    "from transformers import PegasusForConditionalGeneration, PegasusTokenizer"
   ]
  },
  {
   "cell_type": "code",
   "execution_count": 181,
   "id": "67d809d5-6777-475c-b137-334eac37293a",
   "metadata": {
    "tags": []
   },
   "outputs": [
    {
     "name": "stdout",
     "output_type": "stream",
     "text": [
      "Collecting pymupdf\n",
      "  Downloading PyMuPDF-1.24.7-cp311-none-manylinux2014_x86_64.whl.metadata (3.4 kB)\n",
      "Collecting PyMuPDFb==1.24.6 (from pymupdf)\n",
      "  Downloading PyMuPDFb-1.24.6-py3-none-manylinux2014_x86_64.manylinux_2_17_x86_64.whl.metadata (1.4 kB)\n",
      "Downloading PyMuPDF-1.24.7-cp311-none-manylinux2014_x86_64.whl (3.5 MB)\n",
      "\u001b[2K   \u001b[38;2;114;156;31m━━━━━━━━━━━━━━━━━━━━━━━━━━━━━━━━━━━━━━━━\u001b[0m \u001b[32m3.5/3.5 MB\u001b[0m \u001b[31m11.2 MB/s\u001b[0m eta \u001b[36m0:00:00\u001b[0m31m11.5 MB/s\u001b[0m eta \u001b[36m0:00:01\u001b[0m\n",
      "\u001b[?25hDownloading PyMuPDFb-1.24.6-py3-none-manylinux2014_x86_64.manylinux_2_17_x86_64.whl (15.7 MB)\n",
      "\u001b[2K   \u001b[38;2;114;156;31m━━━━━━━━━━━━━━━━━━━━━━━━━━━━━━━━━━━━━━━━\u001b[0m \u001b[32m15.7/15.7 MB\u001b[0m \u001b[31m10.4 MB/s\u001b[0m eta \u001b[36m0:00:00\u001b[0mm eta \u001b[36m0:00:01\u001b[0m0:01\u001b[0m:01\u001b[0m\n",
      "\u001b[?25hInstalling collected packages: PyMuPDFb, pymupdf\n",
      "Successfully installed PyMuPDFb-1.24.6 pymupdf-1.24.7\n",
      "Note: you may need to restart the kernel to use updated packages.\n"
     ]
    }
   ],
   "source": [
    "pip install pymupdf\n"
   ]
  },
  {
   "cell_type": "code",
   "execution_count": 159,
   "id": "18fef1c7-302c-4c52-9f2d-d066a6c4ba84",
   "metadata": {
    "tags": []
   },
   "outputs": [],
   "source": [
    "import nltk \n",
    "from nltk.stem import PorterStemmer\n",
    "import tensorflow as tf \n",
    "from tensorflow.keras.preprocessing.text import Tokenizer\n",
    "from nltk.corpus import stopwords\n",
    "import re \n",
    "from sklearn.model_selection import train_test_split\n",
    "from sklearn.naive_bayes import MultinomialNB,GaussianNB\n",
    "from sklearn.metrics import accuracy_score,classification_report,confusion_matrix\n",
    "from tensorflow.keras.utils import pad_sequences"
   ]
  },
  {
   "cell_type": "code",
   "execution_count": 2,
   "id": "ce71c433-0436-48f7-9f74-635744ef6107",
   "metadata": {
    "tags": []
   },
   "outputs": [],
   "source": [
    "# Load tokenizer \n",
    "tokenizer = PegasusTokenizer.from_pretrained(\"google/pegasus-xsum\")"
   ]
  },
  {
   "cell_type": "code",
   "execution_count": 3,
   "id": "9146332b-809a-4e7a-8bef-eb4e41126f2b",
   "metadata": {
    "tags": []
   },
   "outputs": [
    {
     "name": "stderr",
     "output_type": "stream",
     "text": [
      "Some weights of PegasusForConditionalGeneration were not initialized from the model checkpoint at google/pegasus-xsum and are newly initialized: ['model.decoder.embed_positions.weight', 'model.encoder.embed_positions.weight']\n",
      "You should probably TRAIN this model on a down-stream task to be able to use it for predictions and inference.\n"
     ]
    }
   ],
   "source": [
    "model = PegasusForConditionalGeneration.from_pretrained(\"google/pegasus-xsum\")"
   ]
  },
  {
   "cell_type": "code",
   "execution_count": 206,
   "id": "e97e2a9f-7dac-4e1b-b711-dc7e1db9de21",
   "metadata": {
    "tags": []
   },
   "outputs": [],
   "source": [
    "#pdf_reader=PdfReader(\"Operations Management.pdf\")"
   ]
  },
  {
   "cell_type": "code",
   "execution_count": 208,
   "id": "0e78f379-4708-44e5-9ca1-a917e2ef139f",
   "metadata": {
    "tags": []
   },
   "outputs": [],
   "source": [
    "### def get_pdf_text(pdf_doc):\n",
    "#    l2=[]\n",
    "#    for page in pdf_doc.pages:\n",
    "#        text=page.extract_text()\n",
    "#        text=\" \".join(text.split())\n",
    "#        l2.append(text)\n",
    "        \n",
    "#    return l2 \n",
    "        "
   ]
  },
  {
   "cell_type": "code",
   "execution_count": 210,
   "id": "497afd1b-30e5-45a7-b5c7-f3778c69a97d",
   "metadata": {
    "tags": []
   },
   "outputs": [],
   "source": [
    "import fitz  # PyMuPDF\n",
    "l5=[]\n",
    "def get_pdf_text(pdf_path):\n",
    "    pdf_doc = fitz.open(pdf_path)\n",
    "    text = \"\"\n",
    "    for page in pdf_doc:\n",
    "        text += page.get_text()\n",
    "    return text\n",
    "\n",
    "# Example usage:\n",
    "pdf_path = 'Operations Management.pdf'\n",
    "text = get_pdf_text(pdf_path)\n",
    "l5.append(text)"
   ]
  },
  {
   "cell_type": "code",
   "execution_count": 223,
   "id": "4609e67d-a58d-4837-a89b-cde1d0f58907",
   "metadata": {
    "tags": []
   },
   "outputs": [],
   "source": [
    "ps=PorterStemmer()\n",
    "corpus_3=[]\n",
    "for i in (l5):\n",
    "    text=re.sub(r\"[^a-zA-Z]\",\" \",i)\n",
    "    text=text.lower()\n",
    "    text=text.split()\n",
    "    text=\" \".join(text)\n",
    "    corpus_3.append(text)\n",
    "    \n"
   ]
  },
  {
   "cell_type": "code",
   "execution_count": 232,
   "id": "066c5f55-d4bc-4466-9597-ee9d7442de62",
   "metadata": {
    "tags": []
   },
   "outputs": [],
   "source": [
    "txt=corpus_3[0]"
   ]
  },
  {
   "cell_type": "code",
   "execution_count": 242,
   "id": "63ab0bf3-8481-4495-bda2-f6b6e1a421f6",
   "metadata": {
    "tags": []
   },
   "outputs": [],
   "source": [
    "tokens = tokenizer(txt, truncation=True, padding=\"longest\", return_tensors=\"pt\",max_length=500)"
   ]
  },
  {
   "cell_type": "code",
   "execution_count": 244,
   "id": "912e18e4-cea6-43de-afbf-177ea93dd881",
   "metadata": {
    "tags": []
   },
   "outputs": [],
   "source": [
    "summary = model.generate(**tokens)"
   ]
  },
  {
   "cell_type": "code",
   "execution_count": 245,
   "id": "6d5bd19d-7bb1-47d5-b55d-c71461279b7c",
   "metadata": {
    "tags": []
   },
   "outputs": [
    {
     "data": {
      "text/plain": [
       "tensor([    0,  8476,   603,   117,   114,  4444,   113,   603,   120,  2194,\n",
       "          122,   109,  4463,   111,  8384,   113,  4594,  1994,   115,   114,\n",
       "          260,  1134,  1875,   603,  2370,   109,  2301,   204,   149,  1994,\n",
       "          120,  4721,   109,   889,   113,  2848,   111,   318,   130,   210,\n",
       "          130,   109,  1366,   113,   253, 14533,   112,   109,   976,  2359,\n",
       "          115,   203,  5664,   107,     1])"
      ]
     },
     "execution_count": 245,
     "metadata": {},
     "output_type": "execute_result"
    }
   ],
   "source": [
    "summary[0]"
   ]
  },
  {
   "cell_type": "code",
   "execution_count": 246,
   "id": "18cb98f0-a4ea-4041-8efb-3359d9238820",
   "metadata": {
    "tags": []
   },
   "outputs": [
    {
     "data": {
      "text/plain": [
       "'<pad>Operations management is a branch of management that deals with the designing and supervision of operational processes in a business organization operations management covers the responsibility over all processes that involve the production of goods and services as well as the delivery of such productions to the final consumers in its duties.</s>'"
      ]
     },
     "execution_count": 246,
     "metadata": {},
     "output_type": "execute_result"
    }
   ],
   "source": [
    "tokenizer.decode(summary[0])"
   ]
  },
  {
   "cell_type": "code",
   "execution_count": null,
   "id": "9a0fcaec-a374-48ae-ab1c-b19621ea2be2",
   "metadata": {},
   "outputs": [],
   "source": []
  }
 ],
 "metadata": {
  "kernelspec": {
   "display_name": "Python 3 (ipykernel)",
   "language": "python",
   "name": "python3"
  },
  "language_info": {
   "codemirror_mode": {
    "name": "ipython",
    "version": 3
   },
   "file_extension": ".py",
   "mimetype": "text/x-python",
   "name": "python",
   "nbconvert_exporter": "python",
   "pygments_lexer": "ipython3",
   "version": "3.11.9"
  }
 },
 "nbformat": 4,
 "nbformat_minor": 5
}
